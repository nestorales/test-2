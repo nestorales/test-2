{
 "cells": [
  {
   "cell_type": "markdown",
   "id": "3ed47a76-b48c-48ef-baf3-0f0c00d7cedc",
   "metadata": {},
   "source": [
    "\n",
    "# Data Science Tools and Ecosystem"
   ]
  },
  {
   "cell_type": "markdown",
   "id": "cf9d8148-305d-4c17-a940-f670257f721e",
   "metadata": {},
   "source": [
    "In this notebook, Data Science Tools and Ecosystem are summarized."
   ]
  },
  {
   "cell_type": "markdown",
   "id": "c7142953-3c47-4c22-b744-f2dbc9f60fb4",
   "metadata": {},
   "source": [
    "**Objectives**\n",
    "- Commonly used libraries\n",
    "- Data Science Tools\n",
    "- Data science languages"
   ]
  },
  {
   "cell_type": "markdown",
   "id": "222f8dce-c597-4302-a01d-c9218c718e7b",
   "metadata": {},
   "source": [
    "Some of the popular languages that Data Scientists use are:\n",
    "1. sql\n",
    "2. R\n",
    "3. python"
   ]
  },
  {
   "cell_type": "markdown",
   "id": "1f7a3795-bc1b-48c8-81ae-2c55f672bc71",
   "metadata": {},
   "source": [
    "Some of the commonly used libraries used by Data Scientists include:\r",
    "1. Numpy\n",
    "2. Pandas\n",
    "3. Matplotlib\n"
   ]
  },
  {
   "cell_type": "markdown",
   "id": "fb2c86fe-32f2-4fc0-8197-5db63167ea2f",
   "metadata": {},
   "source": [
    "# Data Science Tools\n",
    "- R studio\n",
    "- Anaconda\n",
    "- Jupiter Lite"
   ]
  },
  {
   "cell_type": "markdown",
   "id": "8504a467-263f-41eb-91ab-476f37baf1c3",
   "metadata": {},
   "source": [
    "###  Below are a few examples of evaluating arithmetic expressions in Python"
   ]
  },
  {
   "cell_type": "markdown",
   "id": "1746888a-b18c-442b-b198-dc3094f1c55d",
   "metadata": {},
   "source": [
    "This a simple arithmetic expression to mutiply then add integers"
   ]
  },
  {
   "cell_type": "code",
   "execution_count": 2,
   "id": "c4e1a6b4-a3f9-4de5-adbd-2114a41a3fc0",
   "metadata": {},
   "outputs": [
    {
     "data": {
      "text/plain": [
       "17"
      ]
     },
     "execution_count": 2,
     "metadata": {},
     "output_type": "execute_result"
    }
   ],
   "source": [
    "(3*4)+5"
   ]
  },
  {
   "cell_type": "markdown",
   "id": "7129d23a-c965-4205-933a-395f3c6343f1",
   "metadata": {},
   "source": [
    "This will convert 200 minutes to hours by diving by 60"
   ]
  },
  {
   "cell_type": "code",
   "execution_count": 1,
   "id": "83df142e-fc12-4b33-90f2-50d6dc328c91",
   "metadata": {},
   "outputs": [
    {
     "data": {
      "text/plain": [
       "3.3333333333333335"
      ]
     },
     "execution_count": 1,
     "metadata": {},
     "output_type": "execute_result"
    }
   ],
   "source": [
    "200/60\n"
   ]
  },
  {
   "cell_type": "markdown",
   "id": "3014d8dc-6ae3-4888-ab9f-6b1cf897f056",
   "metadata": {},
   "source": [
    "## Author\n",
    "Nestoras Panagiotopoulos"
   ]
  },
  {
   "cell_type": "code",
   "execution_count": null,
   "id": "335e3cdb-dc20-4e12-8303-e37478f70b79",
   "metadata": {},
   "outputs": [],
   "source": []
  }
 ],
 "metadata": {
  "kernelspec": {
   "display_name": "Python 3 (ipykernel)",
   "language": "python",
   "name": "python3"
  },
  "language_info": {
   "codemirror_mode": {
    "name": "ipython",
    "version": 3
   },
   "file_extension": ".py",
   "mimetype": "text/x-python",
   "name": "python",
   "nbconvert_exporter": "python",
   "pygments_lexer": "ipython3",
   "version": "3.12.4"
  }
 },
 "nbformat": 4,
 "nbformat_minor": 5
}
